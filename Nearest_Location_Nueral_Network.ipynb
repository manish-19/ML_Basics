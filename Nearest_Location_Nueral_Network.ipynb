{
  "nbformat": 4,
  "nbformat_minor": 0,
  "metadata": {
    "colab": {
      "provenance": []
    },
    "kernelspec": {
      "name": "python3",
      "display_name": "Python 3"
    },
    "language_info": {
      "name": "python"
    }
  },
  "cells": [
    {
      "cell_type": "code",
      "execution_count": 1,
      "metadata": {
        "id": "K9WhmNtSVKgu"
      },
      "outputs": [],
      "source": [
        "import numpy as np\n",
        "import torch\n",
        "import torch.nn as nn\n",
        "import torch.optim as optim"
      ]
    },
    {
      "cell_type": "code",
      "source": [
        "# Step 1: Generate Dataset\n",
        "def generate_dataset(num_samples):\n",
        "    np.random.seed(42)\n",
        "    coordinates = np.random.randint(0, 100, size=(num_samples, 4))  # Generate random coordinates (x1, y1, x2, y2)\n",
        "    distances = np.sum(np.abs(coordinates[:, :2] - coordinates[:, 2:]), axis=1)\n",
        "    return coordinates, distances"
      ],
      "metadata": {
        "id": "JILCBQAeVNJ0"
      },
      "execution_count": 2,
      "outputs": []
    },
    {
      "cell_type": "code",
      "source": [
        "# Step 2: Preprocess Data\n",
        "def preprocess_data(coordinates, distances):\n",
        "    return coordinates.astype(float), distances.astype(float)"
      ],
      "metadata": {
        "id": "P5wnQ7VMVPnm"
      },
      "execution_count": 3,
      "outputs": []
    },
    {
      "cell_type": "code",
      "source": [
        "# Step 3: Design Neural Network\n",
        "class DistancePredictor(nn.Module):\n",
        "    def __init__(self, input_size, hidden_size, output_size):\n",
        "        super(DistancePredictor, self).__init__()\n",
        "        self.fc1 = nn.Linear(input_size, hidden_size)\n",
        "        self.relu = nn.ReLU()\n",
        "        self.fc2 = nn.Linear(hidden_size, output_size)\n",
        "\n",
        "    def forward(self, x):\n",
        "        out = self.fc1(x)\n",
        "        out = self.relu(out)\n",
        "        out = self.fc2(out)\n",
        "        return out"
      ],
      "metadata": {
        "id": "VCrYul_RVSVY"
      },
      "execution_count": 4,
      "outputs": []
    },
    {
      "cell_type": "code",
      "source": [
        "# Step 4: Train Neural Network\n",
        "def train_model(model, X_train, y_train, num_epochs=100, learning_rate=0.01):\n",
        "    criterion = nn.MSELoss()\n",
        "    optimizer = optim.Adam(model.parameters(), lr=learning_rate)\n",
        "\n",
        "    for epoch in range(num_epochs):\n",
        "        inputs = torch.tensor(X_train, dtype=torch.float)\n",
        "        labels = torch.tensor(y_train, dtype=torch.float)\n",
        "\n",
        "        optimizer.zero_grad()\n",
        "        outputs = model(inputs)\n",
        "        loss = criterion(outputs, labels)\n",
        "        loss.backward()\n",
        "        optimizer.step()\n",
        "\n",
        "        if (epoch+1) % 10 == 0:\n",
        "            print(f'Epoch [{epoch+1}/{num_epochs}], Loss: {loss.item():.4f}')"
      ],
      "metadata": {
        "id": "-QxVH8UrVUon"
      },
      "execution_count": 5,
      "outputs": []
    },
    {
      "cell_type": "code",
      "source": [
        "# Step 5: Find Pair with Smallest Predicted Distance\n",
        "def find_smallest_distance(model, coordinates):\n",
        "    inputs = torch.tensor(coordinates, dtype=torch.float)\n",
        "    distances = model(inputs).detach().numpy().squeeze()\n",
        "    min_distance_index = np.argmin(distances)\n",
        "    return coordinates[min_distance_index]"
      ],
      "metadata": {
        "id": "It9eqdriVYT_"
      },
      "execution_count": 6,
      "outputs": []
    },
    {
      "cell_type": "code",
      "source": [
        "# Custom num_samples\n",
        "num_samples = 1000\n",
        "\n",
        "# Generate dataset\n",
        "coordinates, distances = generate_dataset(num_samples)"
      ],
      "metadata": {
        "id": "pCygcOetVbfS"
      },
      "execution_count": 7,
      "outputs": []
    },
    {
      "cell_type": "code",
      "source": [
        "# Preprocess data\n",
        "X_train, y_train = preprocess_data(coordinates, distances)"
      ],
      "metadata": {
        "id": "VkFBBT8dVfOf"
      },
      "execution_count": 8,
      "outputs": []
    },
    {
      "cell_type": "code",
      "source": [
        "# Design neural network\n",
        "input_size = X_train.shape[1]\n",
        "hidden_size = 64\n",
        "output_size = 1\n",
        "model = DistancePredictor(input_size, hidden_size, output_size)"
      ],
      "metadata": {
        "id": "vfjtcqqXVis3"
      },
      "execution_count": 9,
      "outputs": []
    },
    {
      "cell_type": "code",
      "source": [
        "# Train model\n",
        "train_model(model, X_train, y_train)"
      ],
      "metadata": {
        "colab": {
          "base_uri": "https://localhost:8080/"
        },
        "id": "TG0REDvdVll4",
        "outputId": "1128ca4a-5d76-4afd-cbef-9172ab898170"
      },
      "execution_count": 10,
      "outputs": [
        {
          "output_type": "stream",
          "name": "stderr",
          "text": [
            "/usr/local/lib/python3.10/dist-packages/torch/nn/modules/loss.py:535: UserWarning: Using a target size (torch.Size([1000])) that is different to the input size (torch.Size([1000, 1])). This will likely lead to incorrect results due to broadcasting. Please ensure they have the same size.\n",
            "  return F.mse_loss(input, target, reduction=self.reduction)\n"
          ]
        },
        {
          "output_type": "stream",
          "name": "stdout",
          "text": [
            "Epoch [10/100], Loss: 1950.1400\n",
            "Epoch [20/100], Loss: 1535.2948\n",
            "Epoch [30/100], Loss: 1421.0089\n",
            "Epoch [40/100], Loss: 1383.3336\n",
            "Epoch [50/100], Loss: 1364.6008\n",
            "Epoch [60/100], Loss: 1357.7064\n",
            "Epoch [70/100], Loss: 1351.9795\n",
            "Epoch [80/100], Loss: 1349.1238\n",
            "Epoch [90/100], Loss: 1346.8910\n",
            "Epoch [100/100], Loss: 1345.1086\n"
          ]
        }
      ]
    },
    {
      "cell_type": "code",
      "source": [
        "# Find pair with smallest predicted distance\n",
        "pair_with_smallest_distance = find_smallest_distance(model, coordinates)\n",
        "print(\"Pair with smallest predicted distance:\", pair_with_smallest_distance)"
      ],
      "metadata": {
        "colab": {
          "base_uri": "https://localhost:8080/"
        },
        "id": "oPp_0rsNVoGp",
        "outputId": "b7b906da-8e5d-436b-fccb-8b80c5cdb52d"
      },
      "execution_count": 11,
      "outputs": [
        {
          "output_type": "stream",
          "name": "stdout",
          "text": [
            "Pair with smallest predicted distance: [2 5 4 4]\n"
          ]
        }
      ]
    },
    {
      "cell_type": "code",
      "source": [],
      "metadata": {
        "id": "YnHVJO4uVq1A"
      },
      "execution_count": null,
      "outputs": []
    }
  ]
}