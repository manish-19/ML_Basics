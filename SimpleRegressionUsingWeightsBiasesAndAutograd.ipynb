{
  "nbformat": 4,
  "nbformat_minor": 0,
  "metadata": {
    "colab": {
      "provenance": []
    },
    "kernelspec": {
      "name": "python3",
      "display_name": "Python 3"
    },
    "language_info": {
      "name": "python"
    }
  },
  "cells": [
    {
      "cell_type": "code",
      "execution_count": 32,
      "metadata": {
        "id": "qjYKlpc6hgB6"
      },
      "outputs": [],
      "source": [
        "import torch\n",
        "import numpy as np\n",
        "from numpy import random"
      ]
    },
    {
      "cell_type": "code",
      "source": [
        "\n",
        "x_train = np.random.rand(1, 1).astype(np.float32)  # Convert to float32\n",
        "y_train = np.random.rand(1, 1).astype(np.float32)"
      ],
      "metadata": {
        "id": "V4maadpUOCdw"
      },
      "execution_count": 44,
      "outputs": []
    },
    {
      "cell_type": "code",
      "source": [
        "X_train = torch.from_numpy(x_train)\n",
        "Y_train = torch.from_numpy(y_train)"
      ],
      "metadata": {
        "id": "3RkLGlZYNgzY"
      },
      "execution_count": 45,
      "outputs": []
    },
    {
      "cell_type": "code",
      "source": [
        "input_size = 1;\n",
        "hidden_size=1;\n",
        "output_size=1;\n",
        "learning_rate=0.001"
      ],
      "metadata": {
        "id": "7azq4bpmN2fj"
      },
      "execution_count": 46,
      "outputs": []
    },
    {
      "cell_type": "code",
      "source": [
        "w1=torch.rand(input_size,\n",
        "              hidden_size,\n",
        "\n",
        "              requires_grad=True)\n",
        "w1.shape"
      ],
      "metadata": {
        "colab": {
          "base_uri": "https://localhost:8080/"
        },
        "id": "V_9Hesw2Uach",
        "outputId": "f2b13285-56ad-4c36-f1be-40957c4a4032"
      },
      "execution_count": 47,
      "outputs": [
        {
          "output_type": "execute_result",
          "data": {
            "text/plain": [
              "torch.Size([1, 1])"
            ]
          },
          "metadata": {},
          "execution_count": 47
        }
      ]
    },
    {
      "cell_type": "code",
      "source": [
        "b1=w1=torch.rand(input_size,\n",
        "              hidden_size,\n",
        "\n",
        "              requires_grad=True)\n",
        "b1"
      ],
      "metadata": {
        "colab": {
          "base_uri": "https://localhost:8080/"
        },
        "id": "xI4CwLhWUqyq",
        "outputId": "c4735acd-4ae4-4f66-c78c-1c318d173aac"
      },
      "execution_count": 48,
      "outputs": [
        {
          "output_type": "execute_result",
          "data": {
            "text/plain": [
              "tensor([[0.3423]], requires_grad=True)"
            ]
          },
          "metadata": {},
          "execution_count": 48
        }
      ]
    },
    {
      "cell_type": "code",
      "source": [
        "for iter in range(1,4001):\n",
        "  y_pred = X_train.mm(w1).clamp(min=0).add(b1)\n",
        "\n",
        "  loss = (y_pred - Y_train).pow(2).sum()\n",
        "\n",
        "  if iter%100 == 0:\n",
        "    print(iter, loss.item())\n",
        "\n",
        "  loss.backward()\n",
        "\n",
        "  with torch.no_grad():\n",
        "    w1 -= learning_rate * w1.grad\n",
        "    b1 -= learning_rate * b1.grad\n",
        "    w1.grad.zero_()\n",
        "    b1.grad.zero_()"
      ],
      "metadata": {
        "colab": {
          "base_uri": "https://localhost:8080/"
        },
        "id": "vRhaWJX0UwXi",
        "outputId": "38cf75e3-6268-4ef2-e881-dd638d7731c5"
      },
      "execution_count": 49,
      "outputs": [
        {
          "output_type": "stream",
          "name": "stdout",
          "text": [
            "100 0.002882413100451231\n",
            "200 0.00016156544734258205\n",
            "300 9.055284863279667e-06\n",
            "400 5.074213049738319e-07\n",
            "500 2.8453328582145332e-08\n",
            "600 1.590056086797631e-09\n",
            "700 8.86899442775757e-11\n",
            "800 4.106937012693379e-12\n",
            "900 3.8689051962137455e-12\n",
            "1000 3.8689051962137455e-12\n",
            "1100 3.8689051962137455e-12\n",
            "1200 3.8689051962137455e-12\n",
            "1300 3.8689051962137455e-12\n",
            "1400 3.8689051962137455e-12\n",
            "1500 3.8689051962137455e-12\n",
            "1600 3.8689051962137455e-12\n",
            "1700 3.8689051962137455e-12\n",
            "1800 3.8689051962137455e-12\n",
            "1900 3.8689051962137455e-12\n",
            "2000 3.8689051962137455e-12\n",
            "2100 3.8689051962137455e-12\n",
            "2200 3.8689051962137455e-12\n",
            "2300 3.8689051962137455e-12\n",
            "2400 3.8689051962137455e-12\n",
            "2500 3.8689051962137455e-12\n",
            "2600 3.8689051962137455e-12\n",
            "2700 3.8689051962137455e-12\n",
            "2800 3.8689051962137455e-12\n",
            "2900 3.8689051962137455e-12\n",
            "3000 3.8689051962137455e-12\n",
            "3100 3.8689051962137455e-12\n",
            "3200 3.8689051962137455e-12\n",
            "3300 3.8689051962137455e-12\n",
            "3400 3.8689051962137455e-12\n",
            "3500 3.8689051962137455e-12\n",
            "3600 3.8689051962137455e-12\n",
            "3700 3.8689051962137455e-12\n",
            "3800 3.8689051962137455e-12\n",
            "3900 3.8689051962137455e-12\n",
            "4000 3.8689051962137455e-12\n"
          ]
        }
      ]
    },
    {
      "cell_type": "code",
      "source": [],
      "metadata": {
        "id": "Uiz530cEVsXc"
      },
      "execution_count": null,
      "outputs": []
    }
  ]
}