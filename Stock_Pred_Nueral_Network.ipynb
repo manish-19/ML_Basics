{
  "nbformat": 4,
  "nbformat_minor": 0,
  "metadata": {
    "colab": {
      "provenance": []
    },
    "kernelspec": {
      "name": "python3",
      "display_name": "Python 3"
    },
    "language_info": {
      "name": "python"
    }
  },
  "cells": [
    {
      "cell_type": "code",
      "execution_count": 1,
      "metadata": {
        "id": "mVK2FjFKBbpn"
      },
      "outputs": [],
      "source": [
        "import numpy as np\n",
        "import pandas as pd\n",
        "import matplotlib.pyplot as plt\n",
        "from sklearn.preprocessing import MinMaxScaler\n",
        "import torch\n",
        "import torch.nn as nn\n",
        "from torch.utils.data import DataLoader, TensorDataset\n"
      ]
    },
    {
      "cell_type": "code",
      "source": [
        "# Load stock data (assuming you have a CSV file with historical stock prices)\n",
        "data = pd.read_csv('stock_data.csv')\n"
      ],
      "metadata": {
        "id": "C_KDfiU7CVzk"
      },
      "execution_count": 4,
      "outputs": []
    },
    {
      "cell_type": "code",
      "source": [
        "# Preprocess the data\n",
        "# Assuming the 'Close' column contains the closing prices\n",
        "close_prices = data['close'].values.reshape(-1, 1)"
      ],
      "metadata": {
        "id": "P9xi_kdSCZMg"
      },
      "execution_count": 5,
      "outputs": []
    },
    {
      "cell_type": "code",
      "source": [
        "# Scale the data\n",
        "scaler = MinMaxScaler(feature_range=(0, 1))\n",
        "scaled_close_prices = scaler.fit_transform(close_prices)\n"
      ],
      "metadata": {
        "id": "LpRDaCtXCdjm"
      },
      "execution_count": 6,
      "outputs": []
    },
    {
      "cell_type": "code",
      "source": [
        "# Define a function to create the input dataset\n",
        "def create_dataset(data, time_steps=1):\n",
        "    X, y = [], []\n",
        "    for i in range(len(data) - time_steps):\n",
        "        X.append(data[i:(i + time_steps), 0])\n",
        "        y.append(data[i + time_steps, 0])\n",
        "    return np.array(X), np.array(y)\n"
      ],
      "metadata": {
        "id": "3vY3Y2K2C5cm"
      },
      "execution_count": 7,
      "outputs": []
    },
    {
      "cell_type": "code",
      "source": [
        "# Define the number of time steps\n",
        "time_steps = 60  # Use the past 60 days' data to predict the next day's price\n"
      ],
      "metadata": {
        "id": "raSHnIyBC8Em"
      },
      "execution_count": 8,
      "outputs": []
    },
    {
      "cell_type": "code",
      "source": [
        "# Create the dataset\n",
        "X, y = create_dataset(scaled_close_prices, time_steps)\n"
      ],
      "metadata": {
        "id": "rMAqnk4CC-mw"
      },
      "execution_count": 9,
      "outputs": []
    },
    {
      "cell_type": "code",
      "source": [
        "# Convert data to PyTorch tensors\n",
        "X_tensor = torch.tensor(X).float()\n",
        "y_tensor = torch.tensor(y).float()\n"
      ],
      "metadata": {
        "id": "AXrWz506DBK1"
      },
      "execution_count": 10,
      "outputs": []
    },
    {
      "cell_type": "code",
      "source": [
        "# Split the dataset into train and test sets\n",
        "split_ratio = 0.8\n",
        "split_index = int(split_ratio * len(X))\n",
        "X_train, X_test = X_tensor[:split_index], X_tensor[split_index:]\n",
        "y_train, y_test = y_tensor[:split_index], y_tensor[split_index:]"
      ],
      "metadata": {
        "id": "1tRjxerdDEMw"
      },
      "execution_count": 11,
      "outputs": []
    },
    {
      "cell_type": "code",
      "source": [
        "# Define the LSTM model\n",
        "class LSTMModel(nn.Module):\n",
        "    def __init__(self, input_size, hidden_size, num_layers, output_size):\n",
        "        super(LSTMModel, self).__init__()\n",
        "        self.hidden_size = hidden_size\n",
        "        self.num_layers = num_layers\n",
        "        self.lstm = nn.LSTM(input_size, hidden_size, num_layers, batch_first=True)\n",
        "        self.fc = nn.Linear(hidden_size, output_size)\n",
        "\n",
        "    def forward(self, x):\n",
        "        h0 = torch.zeros(self.num_layers, x.size(0), self.hidden_size).to(device)\n",
        "        c0 = torch.zeros(self.num_layers, x.size(0), self.hidden_size).to(device)\n",
        "        out, _ = self.lstm(x, (h0, c0))\n",
        "        out = self.fc(out[:, -1, :])\n",
        "        return out"
      ],
      "metadata": {
        "id": "1fsTLuPQDIXq"
      },
      "execution_count": 12,
      "outputs": []
    },
    {
      "cell_type": "code",
      "source": [
        "# Hyperparameters\n",
        "input_size = 1\n",
        "hidden_size = 64\n",
        "num_layers = 2\n",
        "output_size = 1\n",
        "learning_rate = 0.001\n",
        "num_epochs = 100\n",
        "\n",
        "device = torch.device('cuda' if torch.cuda.is_available() else 'cpu')\n",
        "\n",
        "\n",
        "# Initialize the model\n",
        "model = LSTMModel(input_size, hidden_size, num_layers, output_size).to(device)\n"
      ],
      "metadata": {
        "id": "JSXzQ7hXDKbL"
      },
      "execution_count": 14,
      "outputs": []
    },
    {
      "cell_type": "code",
      "source": [
        "# Loss and optimizer\n",
        "criterion = nn.MSELoss()\n",
        "optimizer = torch.optim.Adam(model.parameters(), lr=learning_rate)\n"
      ],
      "metadata": {
        "id": "qZwCV1yTDOQd"
      },
      "execution_count": 15,
      "outputs": []
    },
    {
      "cell_type": "code",
      "source": [
        "# Reshape input data for LSTM\n",
        "X_train = X_train.view(-1, time_steps, 1)\n",
        "X_test = X_test.view(-1, time_steps, 1)"
      ],
      "metadata": {
        "id": "83A8CSTFEMsv"
      },
      "execution_count": 17,
      "outputs": []
    },
    {
      "cell_type": "code",
      "source": [
        "# Train the model\n",
        "for epoch in range(num_epochs):\n",
        "    # Forward pass\n",
        "    outputs = model(X_train.to(device))\n",
        "    loss = criterion(outputs, y_train.to(device))\n",
        "\n",
        "    # Backward and optimize\n",
        "    optimizer.zero_grad()\n",
        "    loss.backward()\n",
        "    optimizer.step()\n",
        "\n",
        "    if (epoch+1) % 10 == 0:\n",
        "        print(f'Epoch [{epoch+1}/{num_epochs}], Loss: {loss.item():.4f}')\n"
      ],
      "metadata": {
        "colab": {
          "base_uri": "https://localhost:8080/"
        },
        "id": "sqZGPe6dDhws",
        "outputId": "af92395d-d5c9-404a-c0fc-1620c24d975e"
      },
      "execution_count": 18,
      "outputs": [
        {
          "output_type": "stream",
          "name": "stderr",
          "text": [
            "/usr/local/lib/python3.10/dist-packages/torch/nn/modules/loss.py:535: UserWarning: Using a target size (torch.Size([557])) that is different to the input size (torch.Size([557, 1])). This will likely lead to incorrect results due to broadcasting. Please ensure they have the same size.\n",
            "  return F.mse_loss(input, target, reduction=self.reduction)\n"
          ]
        },
        {
          "output_type": "stream",
          "name": "stdout",
          "text": [
            "Epoch [10/100], Loss: 0.1056\n",
            "Epoch [20/100], Loss: 0.0583\n",
            "Epoch [30/100], Loss: 0.0613\n",
            "Epoch [40/100], Loss: 0.0599\n",
            "Epoch [50/100], Loss: 0.0585\n",
            "Epoch [60/100], Loss: 0.0578\n",
            "Epoch [70/100], Loss: 0.0577\n",
            "Epoch [80/100], Loss: 0.0576\n",
            "Epoch [90/100], Loss: 0.0576\n",
            "Epoch [100/100], Loss: 0.0576\n"
          ]
        }
      ]
    },
    {
      "cell_type": "code",
      "source": [
        "# Test the model\n",
        "model.eval()\n",
        "with torch.no_grad():\n",
        "    y_pred = model(X_test.to(device))\n",
        "    y_pred = scaler.inverse_transform(y_pred.cpu().numpy())"
      ],
      "metadata": {
        "id": "SqcZU-CjDkhj"
      },
      "execution_count": 19,
      "outputs": []
    },
    {
      "cell_type": "code",
      "source": [
        "# Visualize the results\n",
        "plt.figure(figsize=(14, 6))\n",
        "plt.plot(y_test.numpy(), label='True Stock Price')\n",
        "plt.plot(y_pred, label='Predicted Stock Price')\n",
        "plt.title('Stock Price Prediction')\n",
        "plt.xlabel('Time')\n",
        "plt.ylabel('Stock Price')\n",
        "plt.legend()\n",
        "plt.show()"
      ],
      "metadata": {
        "colab": {
          "base_uri": "https://localhost:8080/",
          "height": 564
        },
        "id": "e_LqUhifEh-N",
        "outputId": "b1c71051-b94c-4dec-bae2-02c0bd091e88"
      },
      "execution_count": 20,
      "outputs": [
        {
          "output_type": "display_data",
          "data": {
            "text/plain": [
              "<Figure size 1400x600 with 1 Axes>"
            ],
            "image/png": "[encoded data removed]"
          },
          "metadata": {}
        }
      ]
    },
    {
      "cell_type": "code",
      "source": [],
      "metadata": {
        "id": "SdoAoj7IEk_H"
      },
      "execution_count": null,
      "outputs": []
    }
  ]
}